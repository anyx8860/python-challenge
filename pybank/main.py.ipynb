{
 "cells": [
  {
   "cell_type": "code",
   "execution_count": 1,
   "metadata": {},
   "outputs": [],
   "source": [
    "import os\n",
    "import csv\n",
    "import pandas as pd\n",
    "\n",
    "budget_datacsv = os.path.join( \"budget_data.csv\")\n",
    "file_budget = pd.read_csv(budget_datacsv)\n",
    "#file_budget.head()\n"
   ]
  },
  {
   "cell_type": "code",
   "execution_count": 2,
   "metadata": {},
   "outputs": [],
   "source": [
    "def budget(csv):\n",
    "    # varibles for name decrease, greatest, and total\n",
    "    #csv.next\n",
    "    total = 0\n",
    "    next(csv)\n",
    "    row = next(csv)\n",
    "    r = 1\n",
    "    #print(row)\n",
    "    gi = float(row[1])\n",
    "    gd = float(row[1])\n",
    "    gi_name = row[0]\n",
    "    gd_name = row[0]\n",
    "    #running through the csv\n",
    "    for row in csv:\n",
    "        total = total + float(row[1])\n",
    "        #logic statment to check greatest increase and decrease \n",
    "        if gi < float(row[1]) :\n",
    "            gi = float(row[1])\n",
    "            gi_name = row[0]\n",
    "        if gd > float(row[1]) :\n",
    "            gd = float(row[1])\n",
    "            gd_name = row[0]\n",
    "        r = r + 1\n",
    "    #print resolts\n",
    "    print(f\"total rows: {r}\")\n",
    "    print(f\"total: {total}\")\n",
    "    print(f\"Greatest increase {gi_name} ({gi})\")\n",
    "    print(f\"Greatest decrease {gd_name} ({gd})\")"
   ]
  },
  {
   "cell_type": "code",
   "execution_count": 3,
   "metadata": {},
   "outputs": [
    {
     "name": "stdout",
     "output_type": "stream",
     "text": [
      "total rows: 86\n",
      "total: 37514694.0\n",
      "Greatest increase Feb-2012 (1170593.0)\n",
      "Greatest decrease Sep-2013 (-1196225.0)\n"
     ]
    }
   ],
   "source": [
    "with open(budget_datacsv, 'r') as csvfile:\n",
    "    csvreader = csv.reader(csvfile)\n",
    "    budget(csvreader)"
   ]
  },
  {
   "cell_type": "code",
   "execution_count": null,
   "metadata": {},
   "outputs": [],
   "source": []
  }
 ],
 "metadata": {
  "kernelspec": {
   "display_name": "Python 3",
   "language": "python",
   "name": "python3"
  },
  "language_info": {
   "codemirror_mode": {
    "name": "ipython",
    "version": 3
   },
   "file_extension": ".py",
   "mimetype": "text/x-python",
   "name": "python",
   "nbconvert_exporter": "python",
   "pygments_lexer": "ipython3",
   "version": "3.6.5"
  }
 },
 "nbformat": 4,
 "nbformat_minor": 2
}
