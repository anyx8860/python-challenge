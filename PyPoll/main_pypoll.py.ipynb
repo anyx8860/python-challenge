{
 "cells": [
  {
   "cell_type": "code",
   "execution_count": 1,
   "metadata": {},
   "outputs": [],
   "source": [
    "import os\n",
    "import csv\n",
    "import pandas as pd\n",
    "# downloading csv\n",
    "poll_csv = os.path.join(\"election_data.csv\")\n",
    "ele = pd.read_csv(poll_csv)\n"
   ]
  },
  {
   "cell_type": "code",
   "execution_count": 2,
   "metadata": {},
   "outputs": [],
   "source": [
    "#function for taking a csv\n",
    "def polle(csv):\n",
    "    # name parameters\n",
    "    next(csv)\n",
    "    #total amount of votes\n",
    "    tot = 0\n",
    "    # khan votes\n",
    "    khan = 0\n",
    "    #correy votes\n",
    "    correy = 0\n",
    "    #li votes\n",
    "    li = 0\n",
    "    #O'tooley votes\n",
    "    Otooley = 0\n",
    "    #runing through the csv\n",
    "    for row in csv:\n",
    "        tot = tot + 1\n",
    "        #Cheking who wins each county\n",
    "        if row[2] == \"Khan\":\n",
    "            khan = khan + 1\n",
    "        elif row[2] == \"Correy\":\n",
    "            correy = correy + 1\n",
    "        elif row[2] == \"Li\":\n",
    "            li = li + 1\n",
    "        else:\n",
    "            Otooley = Otooley + 1\n",
    "    #percentage of the votes\n",
    "    khan_per = round((khan / tot) * 100)\n",
    "    correy_per = round((correy / tot) * 100)\n",
    "    li_per = round((li / tot) * 100)\n",
    "    Otooley_per = round((Otooley / tot) * 100)\n",
    "    #printing results\n",
    "    print(\"Election Results\")\n",
    "    print(f\"Khan: {khan_per} % ({khan})\")\n",
    "    print(f\"Correy {correy_per} % ({correy})\")\n",
    "    print(f\"Li: {li_per} % {li}\")\n",
    "    print(f\"O'tooley: {Otooley_per}% ({Otooley})\")\n",
    "    #logic statment to see who wins\n",
    "    if khan > li and khan > correy and khan > Otooley:\n",
    "        print(\"KIhan won\")\n",
    "    elif li > khan and li > correy and li > Otooley:\n",
    "        print(\"Li wins\")\n",
    "    elif correy > khan and correy > li and correy > Otooley:\n",
    "        print(\"coorey wins\")\n",
    "    else:\n",
    "        print(\"O'tooley wins\")\n",
    "    "
   ]
  },
  {
   "cell_type": "code",
   "execution_count": 3,
   "metadata": {},
   "outputs": [
    {
     "name": "stdout",
     "output_type": "stream",
     "text": [
      "Election Results\n",
      "Khan: 63 % (2218231)\n",
      "Correy 20 % (704200)\n",
      "Li: 14 % 492940\n",
      "O'tooley: 3% (105630)\n",
      "KIhan won\n"
     ]
    }
   ],
   "source": [
    "with open(poll_csv, \"r\") as csvfile:\n",
    "    #csv reader\n",
    "    csvreader = csv.reader(csvfile)\n",
    "    #runs through function\n",
    "    polle(csvreader)\n"
   ]
  },
  {
   "cell_type": "code",
   "execution_count": null,
   "metadata": {},
   "outputs": [],
   "source": []
  }
 ],
 "metadata": {
  "kernelspec": {
   "display_name": "Python 3",
   "language": "python",
   "name": "python3"
  },
  "language_info": {
   "codemirror_mode": {
    "name": "ipython",
    "version": 3
   },
   "file_extension": ".py",
   "mimetype": "text/x-python",
   "name": "python",
   "nbconvert_exporter": "python",
   "pygments_lexer": "ipython3",
   "version": "3.6.5"
  }
 },
 "nbformat": 4,
 "nbformat_minor": 2
}
